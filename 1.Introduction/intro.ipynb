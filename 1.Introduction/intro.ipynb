{
 "cells": [
  {
   "cell_type": "markdown",
   "metadata": {},
   "source": [
    "# **1. Introduction**\n",
    "\n",
    "*Data preprocessing can refer to manipulation, filtration or augmentation of data before it is analyzed, and is often an important step in the data mining process and Machine Learning.* ([Wikipedia](https://en.wikipedia.org/wiki/Data_preprocessing))\n",
    "\n",
    "Data preprocessing transforms the raw data into a format that is easier to work with, and doing so will help improve the performance of machine learning models. It helps us to select the most relevant features, reduce the noise, and reduce the complexity of the data.\n",
    "\n",
    "![Image](https://github.com/cruvss/Data-Preprocessing-For-Machine-Learning/blob/main/Images/preprocessing_sample.png)\n"
   ]
  },
  {
   "cell_type": "code",
   "execution_count": 2,
   "metadata": {},
   "outputs": [
    {
     "data": {
      "text/plain": [
       "'d:\\\\Code\\\\Machine_Learning\\\\Data_Preprocessing_For_Machine_Learning\\\\1.Introduction'"
      ]
     },
     "execution_count": 2,
     "metadata": {},
     "output_type": "execute_result"
    }
   ],
   "source": [
    "import os\n",
    "os.getcwd()\n"
   ]
  },
  {
   "cell_type": "markdown",
   "metadata": {},
   "source": []
  }
 ],
 "metadata": {
  "kernelspec": {
   "display_name": "Data_Pre",
   "language": "python",
   "name": "python3"
  },
  "language_info": {
   "codemirror_mode": {
    "name": "ipython",
    "version": 3
   },
   "file_extension": ".py",
   "mimetype": "text/x-python",
   "name": "python",
   "nbconvert_exporter": "python",
   "pygments_lexer": "ipython3",
   "version": "3.11.10"
  }
 },
 "nbformat": 4,
 "nbformat_minor": 2
}
