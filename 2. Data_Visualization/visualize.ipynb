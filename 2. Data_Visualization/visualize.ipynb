{
 "cells": [
  {
   "cell_type": "markdown",
   "metadata": {},
   "source": [
    "# **1. Data Visualization**\n",
    "<span style=\"font-family: 'Georgia', serif;\">\n",
    "\n",
    "<a href=\"https://www.kdnuggets.com/wp-content/uploads/data-visualization.jpg\" target=\"_blank\">\n",
    "  <img src=\"https://www.kdnuggets.com/wp-content/uploads/data-visualization.jpg\" alt=\"Data Visualization\">\n",
    "</a>\n",
    "\n",
    "\n",
    "Before we dive into the differnet steps of data preprocessing, let's first understand about data visualization and its importance in data preprocessing. Visualization is important in any field as it helps to clearly understand the main ideas and what is actually happening. As the saying goes, \"*A picture is worth a thousand words.*\" Visualizing a problem helps to understand it more clearly.\n",
    "\n",
    "Data visualization is the graphical representation of information and data. By using visual elements like charts, graphs, and maps, data visualization tools provide an accessible way to see and understand trends, outliers, and patterns in data. In the field of data science, data visualization is used to represent the data in a graphical format. It helps to understand the data, explore the data, and communicate the data clearly and effectively. Before we start with the data preprocessing steps, it is important to know what is data like and how it is distributed. Only after that we can decide what steps to take to preprocess the data.\n",
    "\n",
    "\n",
    "<a href=\"https://morphocode.com/wp-content/uploads/2018/05/typologies.png\" target=\"_blank\">\n",
    "  <img src=\"https://morphocode.com/wp-content/uploads/2018/05/typologies.png\" alt=\"Data Visualization\" height=80% width=80%>\n",
    "</a>\n"
   ]
  },
  {
   "cell_type": "markdown",
   "metadata": {},
   "source": [
    "# **2. Types of Data Visualization**\n",
    "\n",
    "<span style=\"font-family: 'Georgia', serif;\">\n",
    "\n",
    "There are many types of data visualization techniques that can be used to represent the data. Some of the most common types of data visualization techniques are:\n",
    "\n",
    "1. **Line Chart**: A line chart is a type of chart that displays information as a series of data points called 'markers' connected by straight line segments. It is used to show the data trends over a period of time.\n",
    "2. **Bar Chart**: A bar chart is a type of chart that presents categorical data with rectangular bars with heights or lengths proportional to the values that they represent.\n",
    "3. **Pie Chart**: A pie chart is a circular statistical graphic that is divided into slices to illustrate numerical proportions.\n",
    "4. **Histogram**: A histogram is a graphical representation of the distribution of numerical data. It is an estimate of the probability distribution of a continuous variable.\n",
    "5. **Scatter Plot**: A scatter plot is a type of plot that uses Cartesian coordinates to display values for two variables for a set of data.\n",
    "6. **Heat Map**: A heat map is a graphical representation of data where the individual values contained in a matrix are represented as colors.\n",
    "7. **Box Plot**: A box plot is a method for graphically depicting groups of numerical data through their quartiles.\n"
   ]
  },
  {
   "cell_type": "markdown",
   "metadata": {},
   "source": [
    "# **3. Using Python for Data Visualization** \n",
    "\n",
    "<span style=\"font-family: 'Georgia', serif;\">\n",
    "\n",
    "Python is a popular programming language for data visualization. There are many libraries available in Python that can be used for data visualization. Some of the most popular libraries for data visualization in Python are:\n",
    "\n",
    "1. **Matplotlib** \n",
    "2. **Seaborn**\n",
    "3. **Plotly**\n",
    "4. **Bokeh**\n",
    "5. **Altair**\n",
    "6. **ggplot**\n"
   ]
  },
  {
   "cell_type": "markdown",
   "metadata": {},
   "source": [
    "#### Import necessary libraries"
   ]
  },
  {
   "cell_type": "code",
   "execution_count": null,
   "metadata": {},
   "outputs": [],
   "source": [
    "## Creating Random Dataset for visuzalization\n"
   ]
  }
 ],
 "metadata": {
  "kernelspec": {
   "display_name": "Data_Pre",
   "language": "python",
   "name": "python3"
  },
  "language_info": {
   "name": "python",
   "version": "3.11.10"
  }
 },
 "nbformat": 4,
 "nbformat_minor": 2
}
