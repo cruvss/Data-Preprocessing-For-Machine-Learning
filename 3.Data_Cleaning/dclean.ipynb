{
 "cells": [
  {
   "cell_type": "markdown",
   "metadata": {},
   "source": [
    "# **Data Cleaning**"
   ]
  },
  {
   "cell_type": "markdown",
   "metadata": {},
   "source": [
    "<span style=\"font-family:Georgia\">\n",
    "\n",
    "***\"Garbage in, Garbage out\"*** this is a popular phrase in the field of computer science. In the world of data science, this couldn't be more true. No matter how powerful your algorithms are, if your data is messy, your results will be messy too. That's where *data cleaning* comes in. \n",
    "\n",
    "### **What is Data Cleaning?**\n",
    "\n",
    "Data cleaning is all about fixing errors, filling gaps, and orgainizing your data to make it ready for analysis. It's like organizing your desk before you start studying, you get rid of unnecessary stuff, put things in order, and make sure everything is in place.\n",
    "\n",
    "### **Why is Data Cleaning Important?**\n",
    "\n",
    "1. **Accuracy**: \n",
    "\n",
    "    Clean data means accurate results. If your data is messy, your results will be too.\n",
    "2. **Efficiency**: \n",
    "\n",
    "    Clean data means faster analysis. You don't have to spend hours fixing errors and filling gaps.\n",
    "3. **Reproducibility**: \n",
    "\n",
    "    Clean data means reproducible results. If your data is clean, anyone can replicate your analysis.\n"
   ]
  },
  {
   "cell_type": "markdown",
   "metadata": {},
   "source": [
    "# **Steps in Data Cleaning**"
   ]
  },
  {
   "cell_type": "markdown",
   "metadata": {},
   "source": [
    "## **1. Missing Values**\n",
    "\n"
   ]
  },
  {
   "cell_type": "markdown",
   "metadata": {},
   "source": [
    "Missing values are common in real-world datasets. They can be represented in many ways, such as `NaN`, `NA`, `None`, or even an empty string `''`. \n",
    "\n",
    "**Types of Missing values:**\n",
    "\n",
    "1. **MCAR (Missing Completely at Random)**: \n",
    "\n",
    "     MCAR is a specific type of missing data in which the probability of a data point being missing is entirely random and independent of any other variable in the dataset. In simpler terms, whether a value is missing or not has nothing to do with the values of other variables or the characteristics of the data point itself.\n",
    "\n",
    "2. **MAR (Missing at Random)**:\n",
    "\n",
    "    MAR is a type of missing data where the probability of a data point missing depends on the values of other variables in the dataset, but not on the missing variable itself. This means that the missingness mechanism is not entirely random, but it can be predicted based on the available information.\n",
    "\n",
    "    Example: *Age field found to be missing for Female candidates in a survey, as they might not want to reveal their age.*\n",
    "\n",
    "3. **MNAR (Missing Not at Random)**:\n",
    "\n",
    "   MNAR is the most challenging type of missing data to deal with. It occurs when the probability of a data point being missing is related to the missing value itself. This means that the reason for the missing data is informative and directly associated with the variable that is missing.\n",
    "\n",
    "   Example: *A survey asking about income might not be answered by people with low income.*"
   ]
  },
  {
   "cell_type": "markdown",
   "metadata": {},
   "source": [
    "### **1.1. How to Handle Missing Values?**"
   ]
  },
  {
   "cell_type": "markdown",
   "metadata": {},
   "source": [
    "Ignoring missing values can lead to biased results and decreased statistical power. Here are some common strategies to handle missing values:\n",
    "\n",
    "1. **Deletion**: \n",
    "\n",
    "    - **Listwise Deletion**: \n",
    "        Delete rows with missing values.\n",
    "    - **Dropping Variables**: \n",
    "        Drop columns with missing values.\n",
    "\n",
    "2. **Imputation**:\n",
    "\n",
    "    - **Mean/Median/Mode Imputation**: Replace missing values with the mean, median, or mode of the column.\n",
    "    - **Random Imputation**: Randomly select a value from the column and assign it to the missing value.\n",
    "    - **Imputation Using k-NN**: Use k-nearest neighbors to impute missing values.\n",
    "    - **Predictive Imputation**: Use machine learning algorithms to predict missing values.\n",
    "\n",
    "3. **Replacing with a Constant Value**: \n",
    "\n",
    "    Replace missing values with a predefined constant value.\n",
    "\n",
    "4. **Interpolation**:\n",
    "\n",
    "    Use interpolation techniques to estimate missing values.\n",
    "\n",
    "5. **Use previous value**: \n",
    "\n",
    "    Fill missing values with the previous value in the column."
   ]
  },
  {
   "cell_type": "markdown",
   "metadata": {},
   "source": [
    "#### CODE"
   ]
  },
  {
   "cell_type": "code",
   "execution_count": 1,
   "metadata": {},
   "outputs": [],
   "source": [
    "# Importing dataset and libraries\n",
    "\n",
    "import numpy as np\n",
    "import pandas as pd\n",
    "import matplotlib.pyplot as plt\n",
    "\n"
   ]
  },
  {
   "cell_type": "code",
   "execution_count": 2,
   "metadata": {},
   "outputs": [],
   "source": [
    "data = pd.read_csv(\"../0.Global_Dataset/Life Expectancy Data.csv\")"
   ]
  },
  {
   "cell_type": "markdown",
   "metadata": {},
   "source": [
    "#### Checking for missing values"
   ]
  },
  {
   "cell_type": "code",
   "execution_count": 10,
   "metadata": {},
   "outputs": [
    {
     "name": "stdout",
     "output_type": "stream",
     "text": [
      "List of missing Values \n",
      " Country                              0\n",
      "Year                                 0\n",
      "Status                               0\n",
      "Life expectancy                     10\n",
      "Adult Mortality                     10\n",
      "infant deaths                        0\n",
      "Alcohol                            194\n",
      "percentage expenditure               0\n",
      "Hepatitis B                        553\n",
      "Measles                              0\n",
      " BMI                                34\n",
      "under-five deaths                    0\n",
      "Polio                               19\n",
      "Total expenditure                  226\n",
      "Diphtheria                          19\n",
      " HIV/AIDS                            0\n",
      "GDP                                448\n",
      "Population                         652\n",
      " thinness  1-19 years               34\n",
      " thinness 5-9 years                 34\n",
      "Income composition of resources    167\n",
      "Schooling                          163\n",
      "dtype: int64\n",
      "\n",
      "Total number of missing values: 2563\n"
     ]
    }
   ],
   "source": [
    "\n",
    "print(\"List of missing Values \\n\",data.isnull().sum())\n",
    "print(\"\\nTotal number of missing values:\",data.isnull().sum().sum())"
   ]
  },
  {
   "cell_type": "code",
   "execution_count": 11,
   "metadata": {},
   "outputs": [
    {
     "data": {
      "text/plain": [
       "(2938, 22)"
      ]
     },
     "execution_count": 11,
     "metadata": {},
     "output_type": "execute_result"
    }
   ],
   "source": [
    "data.shape"
   ]
  },
  {
   "cell_type": "markdown",
   "metadata": {},
   "source": [
    "#### List wise (row wise) deletion of missing values"
   ]
  },
  {
   "cell_type": "code",
   "execution_count": 21,
   "metadata": {},
   "outputs": [
    {
     "name": "stdout",
     "output_type": "stream",
     "text": [
      "\n",
      "Shape of data before dropping missing values: (2938, 22)\n",
      "Shape of data after dropping missing value row wise: (1649, 22)\n",
      "Number of rows dropped:  1289\n"
     ]
    }
   ],
   "source": [
    "\n",
    "data_drop_row_wise = data.dropna()\n",
    "print(f\"\\nShape of data before dropping missing values: {data.shape}\\nShape of data after dropping missing value row wise: {data_drop_row_wise.shape}\")\n",
    "print(\"Number of rows dropped: \",data.shape[0]-data_drop_row_wise.shape[0])\n"
   ]
  },
  {
   "cell_type": "code",
   "execution_count": null,
   "metadata": {},
   "outputs": [
    {
     "data": {
      "text/plain": [
       "Country                            0\n",
       "Year                               0\n",
       "Status                             0\n",
       "Life expectancy                    0\n",
       "Adult Mortality                    0\n",
       "infant deaths                      0\n",
       "Alcohol                            0\n",
       "percentage expenditure             0\n",
       "Hepatitis B                        0\n",
       "Measles                            0\n",
       " BMI                               0\n",
       "under-five deaths                  0\n",
       "Polio                              0\n",
       "Total expenditure                  0\n",
       "Diphtheria                         0\n",
       " HIV/AIDS                          0\n",
       "GDP                                0\n",
       "Population                         0\n",
       " thinness  1-19 years              0\n",
       " thinness 5-9 years                0\n",
       "Income composition of resources    0\n",
       "Schooling                          0\n",
       "dtype: int64"
      ]
     },
     "execution_count": 14,
     "metadata": {},
     "output_type": "execute_result"
    }
   ],
   "source": [
    "data_drop_row_wise.isna().sum() # all the missing values are removed row wise"
   ]
  },
  {
   "cell_type": "markdown",
   "metadata": {},
   "source": [
    "#### Column wise deletion of missing values"
   ]
  },
  {
   "cell_type": "code",
   "execution_count": 22,
   "metadata": {},
   "outputs": [
    {
     "name": "stdout",
     "output_type": "stream",
     "text": [
      "\n",
      "Shape of data before dropping missing values: (2938, 22)\n",
      "Shape of data after dropping missing value column wise: (2938, 8)\n",
      "Number of columns dropped:  14\n"
     ]
    }
   ],
   "source": [
    "data_drop_column_wise = data.dropna(axis=1)\n",
    "print(f\"\\nShape of data before dropping missing values: {data.shape}\\nShape of data after dropping missing value column wise: {data_drop_column_wise.shape}\")\n",
    "print(\"Number of columns dropped: \",data.shape[1]-data_drop_column_wise.shape[1])"
   ]
  },
  {
   "cell_type": "code",
   "execution_count": 16,
   "metadata": {},
   "outputs": [
    {
     "data": {
      "text/plain": [
       "Country                   0\n",
       "Year                      0\n",
       "Status                    0\n",
       "infant deaths             0\n",
       "percentage expenditure    0\n",
       "Measles                   0\n",
       "under-five deaths         0\n",
       " HIV/AIDS                 0\n",
       "dtype: int64"
      ]
     },
     "execution_count": 16,
     "metadata": {},
     "output_type": "execute_result"
    }
   ],
   "source": [
    "data_drop_column_wise.isna().sum() # all the missing values are removed column wise"
   ]
  },
  {
   "cell_type": "markdown",
   "metadata": {},
   "source": [
    "In column wise removal, we can see that columns got drastically reduced. This is not a good practice as we are losing a lot of information. Dropping the columns or the rows should be done only when the missing values are very high and cannot be imputed. "
   ]
  },
  {
   "cell_type": "markdown",
   "metadata": {},
   "source": [
    "## **Handling the missing value ( The Better way)**\n",
    "\n",
    "We can handle missing value without losing much information by imputing the missing values. But one problem with this method is that it only works with numerical data."
   ]
  },
  {
   "cell_type": "markdown",
   "metadata": {},
   "source": [
    "#### **1.Filling missing values with mean of the column**"
   ]
  },
  {
   "cell_type": "code",
   "execution_count": null,
   "metadata": {},
   "outputs": [],
   "source": [
    "\n",
    "\n",
    "#data_fill_mean = data.fillna(data.mean()) #try uncommenting this and run the code [ you will get error due to non numeric columns]\n"
   ]
  },
  {
   "cell_type": "code",
   "execution_count": null,
   "metadata": {},
   "outputs": [
    {
     "data": {
      "text/plain": [
       "Country                             object\n",
       "Year                                 int64\n",
       "Status                              object\n",
       "Life expectancy                    float64\n",
       "Adult Mortality                    float64\n",
       "infant deaths                        int64\n",
       "Alcohol                            float64\n",
       "percentage expenditure             float64\n",
       "Hepatitis B                        float64\n",
       "Measles                              int64\n",
       " BMI                               float64\n",
       "under-five deaths                    int64\n",
       "Polio                              float64\n",
       "Total expenditure                  float64\n",
       "Diphtheria                         float64\n",
       " HIV/AIDS                          float64\n",
       "GDP                                float64\n",
       "Population                         float64\n",
       " thinness  1-19 years              float64\n",
       " thinness 5-9 years                float64\n",
       "Income composition of resources    float64\n",
       "Schooling                          float64\n",
       "dtype: object"
      ]
     },
     "execution_count": 27,
     "metadata": {},
     "output_type": "execute_result"
    }
   ],
   "source": [
    "data.dtypes # we can see only Country is object type and rest all are numeric"
   ]
  },
  {
   "cell_type": "code",
   "execution_count": 35,
   "metadata": {},
   "outputs": [
    {
     "name": "stdout",
     "output_type": "stream",
     "text": [
      "\n",
      "Shape of data before filling missing values: (2938, 20)\n",
      "Shape of data after filling missing value with mean: (2938, 20)\n"
     ]
    }
   ],
   "source": [
    "Data_numeric =  data.drop(columns=['Country','Status'])\n",
    "Data_numeric_mean = Data_numeric.fillna(Data_numeric.mean())\n",
    "print(f\"\\nShape of data before filling missing values: {Data_numeric.shape}\\nShape of data after filling missing value with mean: {Data_numeric_mean.shape}\")"
   ]
  },
  {
   "cell_type": "code",
   "execution_count": 37,
   "metadata": {},
   "outputs": [
    {
     "data": {
      "text/plain": [
       "Year                               0\n",
       "Life expectancy                    0\n",
       "Adult Mortality                    0\n",
       "infant deaths                      0\n",
       "Alcohol                            0\n",
       "percentage expenditure             0\n",
       "Hepatitis B                        0\n",
       "Measles                            0\n",
       " BMI                               0\n",
       "under-five deaths                  0\n",
       "Polio                              0\n",
       "Total expenditure                  0\n",
       "Diphtheria                         0\n",
       " HIV/AIDS                          0\n",
       "GDP                                0\n",
       "Population                         0\n",
       " thinness  1-19 years              0\n",
       " thinness 5-9 years                0\n",
       "Income composition of resources    0\n",
       "Schooling                          0\n",
       "dtype: int64"
      ]
     },
     "execution_count": 37,
     "metadata": {},
     "output_type": "execute_result"
    }
   ],
   "source": [
    "Data_numeric_mean.isna().sum() # all the missing values are filled with mean of the column"
   ]
  },
  {
   "cell_type": "markdown",
   "metadata": {},
   "source": [
    "#### **2.Filling missing values with median of the column**"
   ]
  },
  {
   "cell_type": "code",
   "execution_count": 39,
   "metadata": {},
   "outputs": [
    {
     "name": "stdout",
     "output_type": "stream",
     "text": [
      "\n",
      "Shape of data before filling missing values: (2938, 20)\n",
      "Shape of data after filling missing value with median: (2938, 20)\n",
      "Number of missing values after filling with median:  0\n"
     ]
    }
   ],
   "source": [
    "data_numeric_median = Data_numeric.fillna(Data_numeric.median())\n",
    "print(f\"\\nShape of data before filling missing values: {Data_numeric.shape}\\nShape of data after filling missing value with median: {data_numeric_median.shape}\")\n",
    "print(\"Number of missing values after filling with median: \",data_numeric_median.isna().sum().sum())"
   ]
  },
  {
   "cell_type": "markdown",
   "metadata": {},
   "source": [
    "#### **3.Filling missing values with mode of the column**"
   ]
  },
  {
   "cell_type": "code",
   "execution_count": null,
   "metadata": {},
   "outputs": [
    {
     "name": "stdout",
     "output_type": "stream",
     "text": [
      "\n",
      "Shape of data before filling missing values: (2938, 20)\n",
      "Shape of data after filling missing value with mode: (2938, 20)\n",
      "Number of missing values after filling with mode:  0\n"
     ]
    }
   ],
   "source": [
    "Data_numeric_mode = Data_numeric.fillna(Data_numeric.mode().iloc[0])  \n",
    "#why iloc[0] is used here?\n",
    "#mode() returns the dataframe with the most frequent value in each column. So we need to extract the first row of the dataframe to get the most frequent value of each column \n",
    "#iloc[0] is used to extract the first row of the dataframe returned by mode() function.\n",
    "print(f\"\\nShape of data before filling missing values: {Data_numeric.shape}\\nShape of data after filling missing value with mode: {Data_numeric_mode.shape}\")\n",
    "print(\"Number of missing values after filling with mode: \",Data_numeric_mode.isna().sum().sum())\n"
   ]
  },
  {
   "cell_type": "markdown",
   "metadata": {},
   "source": [
    "#### **4.Filling missing values with a constant value**"
   ]
  },
  {
   "cell_type": "code",
   "execution_count": 46,
   "metadata": {},
   "outputs": [
    {
     "name": "stdout",
     "output_type": "stream",
     "text": [
      "\n",
      "Shape of data before filling missing values: (2938, 20)\n",
      "Shape of data after filling missing value with 0: (2938, 20)\n",
      "Number of missing values after filling with 0:  0\n"
     ]
    }
   ],
   "source": [
    "# we can also use a constant value to fill the missing values. This value is known as fill_value\n",
    "\n",
    "Data_numeric_fill_value = Data_numeric.fillna(0) #filling missing values with 0\n",
    "print(f\"\\nShape of data before filling missing values: {Data_numeric.shape}\\nShape of data after filling missing value with 0: {Data_numeric_fill_value.shape}\")\n",
    "print(\"Number of missing values after filling with 0: \",Data_numeric_fill_value.isna().sum().sum())\n"
   ]
  },
  {
   "cell_type": "markdown",
   "metadata": {},
   "source": [
    "#### **5.Filling missing values with the previous value or next value**"
   ]
  },
  {
   "cell_type": "code",
   "execution_count": 48,
   "metadata": {},
   "outputs": [
    {
     "name": "stdout",
     "output_type": "stream",
     "text": [
      "\n",
      "Shape of data before filling missing values: (2938, 20)\n",
      "Shape of data after filling missing value with preceding value: (2938, 20)\n",
      "Number of missing values after filling with preceding value:  0\n"
     ]
    }
   ],
   "source": [
    "Data_numeric_preceding_value = Data_numeric.ffill()#filling missing values with preceding value\n",
    "print(f\"\\nShape of data before filling missing values: {Data_numeric.shape}\\nShape of data after filling missing value with preceding value: {Data_numeric_preceding_value.shape}\")\n",
    "print(\"Number of missing values after filling with preceding value: \",Data_numeric_preceding_value.isna().sum().sum())"
   ]
  },
  {
   "cell_type": "code",
   "execution_count": 49,
   "metadata": {},
   "outputs": [
    {
     "name": "stdout",
     "output_type": "stream",
     "text": [
      "\n",
      "Shape of data before filling missing values: (2938, 20)\n",
      "Shape of data after filling missing value with succeeding value: (2938, 20)\n",
      "Number of missing values after filling with succeeding value:  0\n"
     ]
    }
   ],
   "source": [
    "Data_numeric_succeeding_value = Data_numeric.bfill()#filling missing values with succeeding value\n",
    "print(f\"\\nShape of data before filling missing values: {Data_numeric.shape}\\nShape of data after filling missing value with succeeding value: {Data_numeric_succeeding_value.shape}\")\n",
    "print(\"Number of missing values after filling with succeeding value: \",Data_numeric_succeeding_value.isna().sum().sum())"
   ]
  },
  {
   "cell_type": "markdown",
   "metadata": {},
   "source": [
    "#### **6.Filling missing values with the interpolation method**"
   ]
  },
  {
   "cell_type": "code",
   "execution_count": 50,
   "metadata": {},
   "outputs": [
    {
     "name": "stdout",
     "output_type": "stream",
     "text": [
      "\n",
      "Shape of data before filling missing values: (2938, 20)\n",
      "Shape of data after filling missing value with interpolated value: (2938, 20)\n",
      "Number of missing values after filling with interpolated value:  0\n"
     ]
    }
   ],
   "source": [
    "Data_numeric_interpolate = Data_numeric.interpolate()#filling missing values with interpolated value\n",
    "print(f\"\\nShape of data before filling missing values: {Data_numeric.shape}\\nShape of data after filling missing value with interpolated value: {Data_numeric_interpolate.shape}\")\n",
    "print(\"Number of missing values after filling with interpolated value: \",Data_numeric_interpolate.isna().sum().sum())"
   ]
  },
  {
   "cell_type": "markdown",
   "metadata": {},
   "source": [
    "#### **7.Filling missing values with the KNN imputer**"
   ]
  },
  {
   "cell_type": "code",
   "execution_count": 56,
   "metadata": {},
   "outputs": [
    {
     "name": "stdout",
     "output_type": "stream",
     "text": [
      "\n",
      "Shape of data before filling missing values: (2938, 20)\n",
      "Shape of data after filling missing value with KNN: (2938, 20)\n",
      "Number of missing values after filling with KNN:  0\n"
     ]
    }
   ],
   "source": [
    "from sklearn.impute import KNNImputer\n",
    "\n",
    "knn_imputer = KNNImputer(n_neighbors=2)\n",
    "Data_numeric_knn = knn_imputer.fit_transform(Data_numeric)\n",
    "Data_numeric_knn = pd.DataFrame(Data_numeric_knn,columns=Data_numeric.columns)\n",
    "print(f\"\\nShape of data before filling missing values: {Data_numeric.shape}\\nShape of data after filling missing value with KNN: {Data_numeric_knn.shape}\")\n",
    "print(\"Number of missing values after filling with KNN: \",Data_numeric_knn.isna().sum().sum())\n"
   ]
  },
  {
   "cell_type": "code",
   "execution_count": 111,
   "metadata": {},
   "outputs": [
    {
     "data": {
      "image/png": "[encoded data removed]",
      "text/plain": [
       "<Figure size 1000x600 with 1 Axes>"
      ]
     },
     "metadata": {},
     "output_type": "display_data"
    }
   ],
   "source": [
    "import matplotlib.pyplot as plt\n",
    "\n",
    "# Data slices\n",
    "x_indices = Data_numeric.index[160:170]\n",
    "y_mean = Data_numeric_mean['GDP'].iloc[160:170]\n",
    "y_median = data_numeric_median['GDP'].iloc[160:170]\n",
    "y_mode = Data_numeric_mode['GDP'].iloc[160:170]\n",
    "y_knn = Data_numeric_knn['GDP'].iloc[160:170]\n",
    "y_fill_value = Data_numeric_fill_value['GDP'].iloc[160:170]\n",
    "y_interpolate = Data_numeric_interpolate['GDP'].iloc[160:170]\n",
    "\n",
    "\n",
    "# Plot\n",
    "plt.figure(figsize=(10, 6))\n",
    "plt.plot(x_indices, y_mean, marker='o', linestyle='-', color='blue', label='Mean Imputation')\n",
    "plt.plot(x_indices, y_knn, marker='s', linestyle='--', color='orange', label='KNN Imputation')\n",
    "plt.plot(x_indices, y_median, marker='x', linestyle='-.', color='green', label='Median Imputation')\n",
    "plt.plot(x_indices, y_fill_value, marker='d', linestyle=':', color='red', label='Fill Value Imputation')\n",
    "plt.plot(x_indices, y_mode, marker='p', linestyle='-', color='purple', label='Mode Imputation')\n",
    "plt.plot(x_indices, y_interpolate, marker='h', linestyle='--', color='black', label='Interpolation Imputation')\n",
    "\n",
    "# Labels and title\n",
    "plt.title(\"Comparison of Imputation Techniques for GDP (Indices 160-170)\")\n",
    "plt.xlabel(\"Indices\")\n",
    "plt.ylabel(\"GDP Values\")\n",
    "plt.legend()\n",
    "plt.grid(True)\n",
    "plt.show()\n"
   ]
  },
  {
   "cell_type": "markdown",
   "metadata": {},
   "source": [
    "## **2. Duplicate Removal**"
   ]
  },
  {
   "cell_type": "markdown",
   "metadata": {},
   "source": [
    "### **What is duplicate data?**\n",
    "\n",
    "Duplicate data refers to any records or rows in a dataset that are identical or have the same values for some or all of the variables. Duplicate data can occur due to various reasons, such as human errors, data entry mistakes, data merging issues, or data scraping errors. Duplicate data can be classified into two types: exact duplicates and near duplicates. Exact duplicates are records that have the same values for all the variables, while near duplicates are records that have the same values for some but not all of the variables.\n",
    "\n",
    "### **How to identify duplicate values?**\n",
    "\n",
    "In case of python, we can use pandas library to identify the duplicate values. The `duplicated()` function in pandas returns a boolean series that indicates whether a row is a duplicate of a previous row. By using the `sum()` function on the boolean series, we can count the number of duplicate rows in the dataset.\n",
    "\n",
    "### **How to handle duplicate data?**\n",
    "\n",
    "The second step to handle duplicate data is to decide what to do with it. Depending on the type and source of the duplicates, the purpose and scope of your analysis, and the potential impact of the duplicates on your results, there are different options and strategies available. Deleting duplicate rows can reduce the size and complexity of your dataset, but it may also introduce bias. Keeping only one instance of the duplicate rows requires you to choose which one to keep and which ones to discard. Aggregating or averaging the duplicate rows can reduce noise or outliers in your data, but it may not reflect the true distribution or variation. Modifying or merging the duplicate rows can enhance or enrich your data, yet it may introduce errors or inconsistencies. Therefore, when making a decision about how to handle duplicate data, you should carefully consider all of these options and their potential implications.\n",
    "\n"
   ]
  },
  {
   "cell_type": "code",
   "execution_count": 1,
   "metadata": {},
   "outputs": [],
   "source": [
    "import pandas as pd"
   ]
  },
  {
   "cell_type": "code",
   "execution_count": 3,
   "metadata": {},
   "outputs": [],
   "source": [
    "df = pd.read_csv(r'..\\0.Global_Dataset\\Life Expectancy Data.csv')"
   ]
  },
  {
   "cell_type": "code",
   "execution_count": 8,
   "metadata": {},
   "outputs": [
    {
     "data": {
      "text/plain": [
       "np.int64(0)"
      ]
     },
     "execution_count": 8,
     "metadata": {},
     "output_type": "execute_result"
    }
   ],
   "source": [
    "# Checking for duplicates\n",
    "df.duplicated().sum()"
   ]
  },
  {
   "cell_type": "code",
   "execution_count": 12,
   "metadata": {},
   "outputs": [
    {
     "name": "stdout",
     "output_type": "stream",
     "text": [
      "Number of duplicates: 1\n",
      "\n",
      "Original DataFrame:\n",
      "     Name  Age         City\n",
      "0    John   22     New York\n",
      "1    Paul   25       London\n",
      "2    John   22     New York\n",
      "3  George   24  Los Angeles\n",
      "4   Ringo   26       London\n",
      "\n",
      "DataFrame after dropping duplicates:\n",
      "     Name  Age         City\n",
      "0    John   22     New York\n",
      "1    Paul   25       London\n",
      "3  George   24  Los Angeles\n",
      "4   Ringo   26       London\n"
     ]
    }
   ],
   "source": [
    "# Creating a sample dataset set for demonstration\n",
    "data = {\n",
    "    'Name': ['John', 'Paul', 'John', 'George', 'Ringo'],\n",
    "    'Age': [22, 25, 22, 24, 26],\n",
    "    'City': ['New York', 'London', 'New York', 'Los Angeles', 'London']\n",
    "}\n",
    "\n",
    "df = pd.DataFrame(data)\n",
    "print(\"Number of duplicates:\", df.duplicated().sum())\n",
    "print(\"\\nOriginal DataFrame:\")\n",
    "print(df)\n",
    "\n",
    "# Dropping duplicates\n",
    "df_dropped = df.drop_duplicates()\n",
    "print(\"\\nDataFrame after dropping duplicates:\")\n",
    "print(df_dropped)\n",
    "\n"
   ]
  },
  {
   "cell_type": "code",
   "execution_count": null,
   "metadata": {},
   "outputs": [
    {
     "name": "stdout",
     "output_type": "stream",
     "text": [
      "\n",
      "Original DataFrame:\n",
      "     Name  Age         City\n",
      "0    John   22     New York\n",
      "1    Paul   25       London\n",
      "2    John   22     New York\n",
      "3  George   24  Los Angeles\n",
      "4   Ringo   26       London\n",
      "\n",
      "DataFrame after dropping duplicates based on 'Name' column:\n",
      "     Name  Age         City\n",
      "0    John   22     New York\n",
      "1    Paul   25       London\n",
      "3  George   24  Los Angeles\n",
      "4   Ringo   26       London\n"
     ]
    }
   ],
   "source": [
    "# Conditional duplicates handling \n",
    "# Conditional duplicates handling means that we can specify a subset of columns based on which the duplicates will be checked and dropped.\n",
    "# Creating a sample dataset set for demonstration\n",
    "data = {\n",
    "    'Name': ['John', 'Paul', 'John', 'George', 'Ringo'],\n",
    "    'Age': [22, 25, 22, 24, 26],\n",
    "    'City': ['New York', 'London', 'New York', 'Los Angeles', 'London']\n",
    "}\n",
    "\n",
    "df = pd.DataFrame(data)\n",
    "print(\"\\nOriginal DataFrame:\")\n",
    "print(df)\n",
    "\n",
    "# Dropping duplicates based on a specific column\n",
    "df_dropped = df.drop_duplicates(subset=['Name'])\n",
    "print(\"\\nDataFrame after dropping duplicates based on 'Name' column:\")\n",
    "print(df_dropped)\n",
    "\n"
   ]
  },
  {
   "cell_type": "markdown",
   "metadata": {},
   "source": [
    "## **3. Handling Outliers**"
   ]
  },
  {
   "cell_type": "markdown",
   "metadata": {},
   "source": []
  }
 ],
 "metadata": {
  "kernelspec": {
   "display_name": "Data_Pre",
   "language": "python",
   "name": "python3"
  },
  "language_info": {
   "codemirror_mode": {
    "name": "ipython",
    "version": 3
   },
   "file_extension": ".py",
   "mimetype": "text/x-python",
   "name": "python",
   "nbconvert_exporter": "python",
   "pygments_lexer": "ipython3",
   "version": "3.11.10"
  }
 },
 "nbformat": 4,
 "nbformat_minor": 2
}
