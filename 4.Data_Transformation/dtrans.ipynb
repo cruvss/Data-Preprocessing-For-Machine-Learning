{
 "cells": [
  {
   "cell_type": "markdown",
   "metadata": {},
   "source": [
    "<h1 style=\"font-size:250%; font-family:cursive; color:#ff6666;\"><b>Introduction to Data Transformation <a id=\"5\"></a></b></h1>"
   ]
  },
  {
   "cell_type": "markdown",
   "metadata": {},
   "source": [
    "## What is Data Transformation?\n",
    "Data Transformation is an important step in Data Preprocessing whihc involves converting data into a different format, making it more suitable for analysis. This is the setp where we change all the values of the dataset so that it can be used for further analysis while keeping the meaning of the data intact.\n",
    "\n",
    "## Why Data Transformation?\n",
    "Data Transformation is important because it helps in improving the accuracy of the model. It also helps in reducing the skewness of the data and makes the data more normal.\n",
    "\n",
    "## Types of Data Transformation\n",
    "1. Scaling\n",
    "\n",
    "    - Standardization (Z-score Normalization)\n",
    "    - Min-Max Scaling\n",
    "    - Robust Scaling\n",
    "\n",
    "2. Encoding\n",
    "\n",
    "    - Label Encoding\n",
    "    - One-Hot Encoding\n",
    "    - Target Encoding\n",
    "    - Frequency Encoding\n",
    "\n",
    "3. Feature Transformation\n",
    "\n",
    "    - Log Transformation\n",
    "    - Square Root Transformation\n",
    "    - Box-cox and Yeo-Johnson Transformation\n",
    "\n"
   ]
  },
  {
   "cell_type": "markdown",
   "metadata": {},
   "source": [
    "<h1 style=\"font-size:250%; font-family:cursive; color:#ff6666;\">1. Scaling</h1>"
   ]
  },
  {
   "cell_type": "markdown",
   "metadata": {},
   "source": []
  }
 ],
 "metadata": {
  "language_info": {
   "name": "python"
  }
 },
 "nbformat": 4,
 "nbformat_minor": 2
}
